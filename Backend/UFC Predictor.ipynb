{
 "cells": [
  {
   "cell_type": "markdown",
   "source": [
    "Test\n",
    "\n"
   ],
   "metadata": {
    "collapsed": false,
    "pycharm": {
     "name": "#%% md\n"
    }
   }
  },
  {
   "cell_type": "code",
   "execution_count": 6,
   "outputs": [
    {
     "name": "stdout",
     "output_type": "stream",
     "text": [
      "<bound method NDFrame.head of              R_fighter          B_fighter  R_odds  B_odds        R_ev  \\\n",
      "0       Dustin Poirier     Conor McGregor     250    -305  250.000000   \n",
      "1           Dan Hooker   Michael Chandler    -134     105   74.626866   \n",
      "2          Jessica Eye  Joanne Calderwood    -105    -117   95.238095   \n",
      "3       Andrew Sanchez    Makhmud Muradov     115    -143  115.000000   \n",
      "4     Marina Rodriguez       Amanda Ribas     250    -335  250.000000   \n",
      "...                ...                ...     ...     ...         ...   \n",
      "4553      Duane Ludwig      Darren Elkins    -155     135   64.516129   \n",
      "4554       John Howard     Daniel Roberts    -210     175   47.619048   \n",
      "4555    Brendan Schaub      Chase Gormley    -260     220   38.461538   \n",
      "4556       Mike Pierce      Julio Paulino    -420     335   23.809524   \n",
      "4557      Eric Schafer        Jason Brilz     140    -160  140.000000   \n",
      "\n",
      "            B_ev       date                                    location  \\\n",
      "0      32.786885  1/23/2021  Abu Dhabi, Abu Dhabi, United Arab Emirates   \n",
      "1     105.000000  1/23/2021  Abu Dhabi, Abu Dhabi, United Arab Emirates   \n",
      "2      85.470085  1/23/2021  Abu Dhabi, Abu Dhabi, United Arab Emirates   \n",
      "3      69.930070  1/23/2021  Abu Dhabi, Abu Dhabi, United Arab Emirates   \n",
      "4      29.850746  1/23/2021  Abu Dhabi, Abu Dhabi, United Arab Emirates   \n",
      "...          ...        ...                                         ...   \n",
      "4553  135.000000  3/21/2010                   Broomfield, Colorado, USA   \n",
      "4554  175.000000  3/21/2010                   Broomfield, Colorado, USA   \n",
      "4555  220.000000  3/21/2010                   Broomfield, Colorado, USA   \n",
      "4556  335.000000  3/21/2010                   Broomfield, Colorado, USA   \n",
      "4557   62.500000  3/21/2010                   Broomfield, Colorado, USA   \n",
      "\n",
      "                   country Winner  ...  R_td_attempted_bout  \\\n",
      "0     United Arab Emirates    Red  ...                  NaN   \n",
      "1     United Arab Emirates   Blue  ...                  NaN   \n",
      "2     United Arab Emirates   Blue  ...                  NaN   \n",
      "3     United Arab Emirates   Blue  ...                  NaN   \n",
      "4     United Arab Emirates    Red  ...                  NaN   \n",
      "...                    ...    ...  ...                  ...   \n",
      "4553                   USA   Blue  ...                  0.0   \n",
      "4554                   USA    Red  ...                  1.0   \n",
      "4555                   USA    Red  ...                  0.0   \n",
      "4556                   USA    Red  ...                 10.0   \n",
      "4557                   USA   Blue  ...                  3.0   \n",
      "\n",
      "     B_td_attempted_bout R_td_pct_bout  B_td_pct_bout  R_sub_attempts_bout  \\\n",
      "0                    NaN           NaN            NaN                  NaN   \n",
      "1                    NaN           NaN            NaN                  NaN   \n",
      "2                    NaN           NaN            NaN                  NaN   \n",
      "3                    NaN           NaN            NaN                  NaN   \n",
      "4                    NaN           NaN            NaN                  NaN   \n",
      "...                  ...           ...            ...                  ...   \n",
      "4553                 2.0          0.00            0.5                  0.0   \n",
      "4554                 1.0          1.00            1.0                  0.0   \n",
      "4555                 2.0          0.00            0.0                  0.0   \n",
      "4556                 0.0          0.60            0.0                  0.0   \n",
      "4557                 6.0          0.66            0.5                  1.0   \n",
      "\n",
      "      B_sub_attempts_bout  R_pass_bout  B_pass_bout  R_rev_bout  B_rev_bout  \n",
      "0                     NaN          NaN          NaN         NaN         NaN  \n",
      "1                     NaN          NaN          NaN         NaN         NaN  \n",
      "2                     NaN          NaN          NaN         NaN         NaN  \n",
      "3                     NaN          NaN          NaN         NaN         NaN  \n",
      "4                     NaN          NaN          NaN         NaN         NaN  \n",
      "...                   ...          ...          ...         ...         ...  \n",
      "4553                  0.0          0.0          0.0         0.0         0.0  \n",
      "4554                  1.0          0.0          1.0         0.0         1.0  \n",
      "4555                  0.0          0.0          0.0         0.0         0.0  \n",
      "4556                  0.0          6.0          0.0         0.0         0.0  \n",
      "4557                  1.0          1.0          6.0         1.0         1.0  \n",
      "\n",
      "[4558 rows x 137 columns]>\n"
     ]
    },
    {
     "name": "stderr",
     "output_type": "stream",
     "text": [
      "/usr/local/lib/python3.8/dist-packages/IPython/core/interactiveshell.py:3155: DtypeWarning: Columns (79,80) have mixed types.Specify dtype option on import or set low_memory=False.\n",
      "  has_raised = await self.run_ast_nodes(code_ast.body, cell_name,\n"
     ]
    }
   ],
   "source": [
    "import pandas as pd\n",
    "\n",
    "import matplotlib as mp\n",
    "\n",
    "data=pd.read_csv(\"ufc-master.csv\")\n",
    "\n",
    "print(data.head)"
   ],
   "metadata": {
    "collapsed": false,
    "pycharm": {
     "name": "#%%\n"
    }
   }
  },
  {
   "cell_type": "markdown",
   "source": [
    "O explicatie"
   ],
   "metadata": {
    "collapsed": false
   }
  },
  {
   "cell_type": "code",
   "execution_count": null,
   "outputs": [],
   "source": [],
   "metadata": {
    "collapsed": false,
    "pycharm": {
     "name": "#%%\n"
    }
   }
  }
 ],
 "metadata": {
  "kernelspec": {
   "name": "pycharm-c8e62bbb",
   "language": "python",
   "display_name": "PyCharm (Hacklytics2021)"
  },
  "language_info": {
   "codemirror_mode": {
    "name": "ipython",
    "version": 2
   },
   "file_extension": ".py",
   "mimetype": "text/x-python",
   "name": "python",
   "nbconvert_exporter": "python",
   "pygments_lexer": "ipython2",
   "version": "2.7.6"
  },
  "pycharm": {
   "stem_cell": {
    "cell_type": "raw",
    "source": [
     "\n"
    ],
    "metadata": {
     "collapsed": false
    }
   }
  }
 },
 "nbformat": 4,
 "nbformat_minor": 0
}